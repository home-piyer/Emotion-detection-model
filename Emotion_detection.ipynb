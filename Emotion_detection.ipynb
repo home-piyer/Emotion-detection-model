{
  "nbformat": 4,
  "nbformat_minor": 0,
  "metadata": {
    "colab": {
      "provenance": []
    },
    "kernelspec": {
      "name": "python3",
      "display_name": "Python 3"
    },
    "language_info": {
      "name": "python"
    }
  },
  "cells": [
    {
      "cell_type": "code",
      "execution_count": null,
      "metadata": {
        "id": "F1mjds7iLGvc"
      },
      "outputs": [],
      "source": [
        "# Import dependencies\n",
        "import numpy as np\n",
        "import tensorflow as tf\n",
        "from sklearn.model_selection import train_test_split\n",
        "import os\n",
        "import cv2\n",
        "from google.colab.patches import cv2_imshow\n",
        "import matplotlib.pyplot as plt\n",
        "from tensorflow.keras.layers import Dropout\n",
        "from tensorflow.keras.layers import Flatten,BatchNormalization\n",
        "from tensorflow.keras.layers import Dense, MaxPooling2D,Conv2D\n",
        "from tensorflow.keras.layers import Input,Activation,Add\n",
        "from tensorflow.keras.models import Model\n",
        "from tensorflow.keras.regularizers import l2\n",
        "import gc\n",
        "import pandas as pd\n",
        "from keras.models import Sequential,load_model,Model\n",
        "from keras.layers import Conv2D,MaxPool2D,Dense,Dropout,BatchNormalization,Flatten,Input\n",
        "from sklearn.model_selection import train_test_split"
      ]
    },
    {
      "cell_type": "code",
      "source": [
        "# Mount to Drive\n",
        "from google.colab import drive\n",
        "drive.mount('/content/drive')\n",
        "# Set working directory\n",
        "%cd /content/drive/My Drive/Emotion_detection_data\n",
        "\n",
        "# Declare dataset path\n",
        "dataset_folder='./input/CK+48'\n",
        "sub_folders=os.listdir(dataset_folder)\n",
        "\n",
        "# Read folder names as labels and images underneath\n",
        "i=0\n",
        "last=[]\n",
        "images=[]\n",
        "labels=[]\n",
        "temp = sub_folders\n",
        "\n",
        "# Read folders in the main dataset folder, one at a time\n",
        "for sub_folder in sub_folders:\n",
        "  sub_folder_index = temp.index(sub_folder)\n",
        "  label = sub_folder_index\n",
        "  # Define labels basis use case. We are using positive:0, negative:1, neutral:2\n",
        "  # for our use case of predicting emotions of visitors entering a retail store\n",
        "  if  label in [4, 6]:    # label in ['happy', 'surprise']\n",
        "    new_label=0           # changed to label = positive emotion\n",
        "  elif label in [0,5]:    # label in ['anger','sadness']\n",
        "    new_label=1           # changed to label = negative emotion\n",
        "  else:                   # label in ['contempt', 'disgust', 'fear']\n",
        "    new_label=2           # changed to label = neutral emotion\n",
        "\n",
        "  path = dataset_folder+'/'+sub_folder\n",
        "  sub_folder_images= os.listdir(path)\n",
        "\n",
        "  # Read images in the sub folder, one at a time\n",
        "  for image in sub_folder_images:\n",
        "    image_path = path+'/'+image\n",
        "    image = cv2.imread(image_path)\n",
        "    images.append(image)\n",
        "    labels.append(new_label)\n",
        "    i+=1\n",
        "  last.append(i)\n"
      ],
      "metadata": {
        "colab": {
          "base_uri": "https://localhost:8080/",
          "height": 399
        },
        "id": "BjMnX6UTMOMm",
        "outputId": "a86d84fb-be86-40eb-a7a1-114d3f967076"
      },
      "execution_count": null,
      "outputs": [
        {
          "output_type": "error",
          "ename": "MessageError",
          "evalue": "ignored",
          "traceback": [
            "\u001b[0;31m---------------------------------------------------------------------------\u001b[0m",
            "\u001b[0;31mMessageError\u001b[0m                              Traceback (most recent call last)",
            "\u001b[0;32m<ipython-input-1-9c7970d2ac96>\u001b[0m in \u001b[0;36m<cell line: 3>\u001b[0;34m()\u001b[0m\n\u001b[1;32m      1\u001b[0m \u001b[0;31m# Mount to Drive\u001b[0m\u001b[0;34m\u001b[0m\u001b[0;34m\u001b[0m\u001b[0m\n\u001b[1;32m      2\u001b[0m \u001b[0;32mfrom\u001b[0m \u001b[0mgoogle\u001b[0m\u001b[0;34m.\u001b[0m\u001b[0mcolab\u001b[0m \u001b[0;32mimport\u001b[0m \u001b[0mdrive\u001b[0m\u001b[0;34m\u001b[0m\u001b[0;34m\u001b[0m\u001b[0m\n\u001b[0;32m----> 3\u001b[0;31m \u001b[0mdrive\u001b[0m\u001b[0;34m.\u001b[0m\u001b[0mmount\u001b[0m\u001b[0;34m(\u001b[0m\u001b[0;34m'/content/drive'\u001b[0m\u001b[0;34m)\u001b[0m\u001b[0;34m\u001b[0m\u001b[0;34m\u001b[0m\u001b[0m\n\u001b[0m\u001b[1;32m      4\u001b[0m \u001b[0;31m# Set working directory\u001b[0m\u001b[0;34m\u001b[0m\u001b[0;34m\u001b[0m\u001b[0m\n\u001b[1;32m      5\u001b[0m \u001b[0mget_ipython\u001b[0m\u001b[0;34m(\u001b[0m\u001b[0;34m)\u001b[0m\u001b[0;34m.\u001b[0m\u001b[0mrun_line_magic\u001b[0m\u001b[0;34m(\u001b[0m\u001b[0;34m'cd'\u001b[0m\u001b[0;34m,\u001b[0m \u001b[0;34m'/content/drive/My Drive/Emotion_detection_data'\u001b[0m\u001b[0;34m)\u001b[0m\u001b[0;34m\u001b[0m\u001b[0;34m\u001b[0m\u001b[0m\n",
            "\u001b[0;32m/usr/local/lib/python3.10/dist-packages/google/colab/drive.py\u001b[0m in \u001b[0;36mmount\u001b[0;34m(mountpoint, force_remount, timeout_ms, readonly)\u001b[0m\n\u001b[1;32m    101\u001b[0m \u001b[0;32mdef\u001b[0m \u001b[0mmount\u001b[0m\u001b[0;34m(\u001b[0m\u001b[0mmountpoint\u001b[0m\u001b[0;34m,\u001b[0m \u001b[0mforce_remount\u001b[0m\u001b[0;34m=\u001b[0m\u001b[0;32mFalse\u001b[0m\u001b[0;34m,\u001b[0m \u001b[0mtimeout_ms\u001b[0m\u001b[0;34m=\u001b[0m\u001b[0;36m120000\u001b[0m\u001b[0;34m,\u001b[0m \u001b[0mreadonly\u001b[0m\u001b[0;34m=\u001b[0m\u001b[0;32mFalse\u001b[0m\u001b[0;34m)\u001b[0m\u001b[0;34m:\u001b[0m\u001b[0;34m\u001b[0m\u001b[0;34m\u001b[0m\u001b[0m\n\u001b[1;32m    102\u001b[0m   \u001b[0;34m\"\"\"Mount your Google Drive at the specified mountpoint path.\"\"\"\u001b[0m\u001b[0;34m\u001b[0m\u001b[0;34m\u001b[0m\u001b[0m\n\u001b[0;32m--> 103\u001b[0;31m   return _mount(\n\u001b[0m\u001b[1;32m    104\u001b[0m       \u001b[0mmountpoint\u001b[0m\u001b[0;34m,\u001b[0m\u001b[0;34m\u001b[0m\u001b[0;34m\u001b[0m\u001b[0m\n\u001b[1;32m    105\u001b[0m       \u001b[0mforce_remount\u001b[0m\u001b[0;34m=\u001b[0m\u001b[0mforce_remount\u001b[0m\u001b[0;34m,\u001b[0m\u001b[0;34m\u001b[0m\u001b[0;34m\u001b[0m\u001b[0m\n",
            "\u001b[0;32m/usr/local/lib/python3.10/dist-packages/google/colab/drive.py\u001b[0m in \u001b[0;36m_mount\u001b[0;34m(mountpoint, force_remount, timeout_ms, ephemeral, readonly)\u001b[0m\n\u001b[1;32m    130\u001b[0m   )\n\u001b[1;32m    131\u001b[0m   \u001b[0;32mif\u001b[0m \u001b[0mephemeral\u001b[0m\u001b[0;34m:\u001b[0m\u001b[0;34m\u001b[0m\u001b[0;34m\u001b[0m\u001b[0m\n\u001b[0;32m--> 132\u001b[0;31m     _message.blocking_request(\n\u001b[0m\u001b[1;32m    133\u001b[0m         \u001b[0;34m'request_auth'\u001b[0m\u001b[0;34m,\u001b[0m \u001b[0mrequest\u001b[0m\u001b[0;34m=\u001b[0m\u001b[0;34m{\u001b[0m\u001b[0;34m'authType'\u001b[0m\u001b[0;34m:\u001b[0m \u001b[0;34m'dfs_ephemeral'\u001b[0m\u001b[0;34m}\u001b[0m\u001b[0;34m,\u001b[0m \u001b[0mtimeout_sec\u001b[0m\u001b[0;34m=\u001b[0m\u001b[0;32mNone\u001b[0m\u001b[0;34m\u001b[0m\u001b[0;34m\u001b[0m\u001b[0m\n\u001b[1;32m    134\u001b[0m     )\n",
            "\u001b[0;32m/usr/local/lib/python3.10/dist-packages/google/colab/_message.py\u001b[0m in \u001b[0;36mblocking_request\u001b[0;34m(request_type, request, timeout_sec, parent)\u001b[0m\n\u001b[1;32m    174\u001b[0m       \u001b[0mrequest_type\u001b[0m\u001b[0;34m,\u001b[0m \u001b[0mrequest\u001b[0m\u001b[0;34m,\u001b[0m \u001b[0mparent\u001b[0m\u001b[0;34m=\u001b[0m\u001b[0mparent\u001b[0m\u001b[0;34m,\u001b[0m \u001b[0mexpect_reply\u001b[0m\u001b[0;34m=\u001b[0m\u001b[0;32mTrue\u001b[0m\u001b[0;34m\u001b[0m\u001b[0;34m\u001b[0m\u001b[0m\n\u001b[1;32m    175\u001b[0m   )\n\u001b[0;32m--> 176\u001b[0;31m   \u001b[0;32mreturn\u001b[0m \u001b[0mread_reply_from_input\u001b[0m\u001b[0;34m(\u001b[0m\u001b[0mrequest_id\u001b[0m\u001b[0;34m,\u001b[0m \u001b[0mtimeout_sec\u001b[0m\u001b[0;34m)\u001b[0m\u001b[0;34m\u001b[0m\u001b[0;34m\u001b[0m\u001b[0m\n\u001b[0m",
            "\u001b[0;32m/usr/local/lib/python3.10/dist-packages/google/colab/_message.py\u001b[0m in \u001b[0;36mread_reply_from_input\u001b[0;34m(message_id, timeout_sec)\u001b[0m\n\u001b[1;32m    101\u001b[0m     ):\n\u001b[1;32m    102\u001b[0m       \u001b[0;32mif\u001b[0m \u001b[0;34m'error'\u001b[0m \u001b[0;32min\u001b[0m \u001b[0mreply\u001b[0m\u001b[0;34m:\u001b[0m\u001b[0;34m\u001b[0m\u001b[0;34m\u001b[0m\u001b[0m\n\u001b[0;32m--> 103\u001b[0;31m         \u001b[0;32mraise\u001b[0m \u001b[0mMessageError\u001b[0m\u001b[0;34m(\u001b[0m\u001b[0mreply\u001b[0m\u001b[0;34m[\u001b[0m\u001b[0;34m'error'\u001b[0m\u001b[0;34m]\u001b[0m\u001b[0;34m)\u001b[0m\u001b[0;34m\u001b[0m\u001b[0;34m\u001b[0m\u001b[0m\n\u001b[0m\u001b[1;32m    104\u001b[0m       \u001b[0;32mreturn\u001b[0m \u001b[0mreply\u001b[0m\u001b[0;34m.\u001b[0m\u001b[0mget\u001b[0m\u001b[0;34m(\u001b[0m\u001b[0;34m'data'\u001b[0m\u001b[0;34m,\u001b[0m \u001b[0;32mNone\u001b[0m\u001b[0;34m)\u001b[0m\u001b[0;34m\u001b[0m\u001b[0;34m\u001b[0m\u001b[0m\n\u001b[1;32m    105\u001b[0m \u001b[0;34m\u001b[0m\u001b[0m\n",
            "\u001b[0;31mMessageError\u001b[0m: Error: credential propagation was unsuccessful"
          ]
        }
      ]
    },
    {
      "cell_type": "code",
      "source": [
        "def padding(image, target_height, target_width, num_channels):\n",
        "    height, width, channels = image.shape\n",
        "\n",
        "    if height >= target_height and width >= target_width:\n",
        "        # If the image is larger or equal to the target size, no need to pad\n",
        "        return image\n",
        "\n",
        "    pad_height = max(target_height - height, 0)\n",
        "    pad_width = max(target_width - width, 0)\n",
        "\n",
        "    top_pad = pad_height // 2\n",
        "    bottom_pad = pad_height - top_pad\n",
        "    left_pad = pad_width // 2\n",
        "    right_pad = pad_width - left_pad\n",
        "\n",
        "    padded_image = np.pad(image, ((top_pad, bottom_pad), (left_pad, right_pad), (0, 0)), mode='constant')\n",
        "    return padded_image\n",
        "\n"
      ],
      "metadata": {
        "id": "6EQw9J2ixrI2"
      },
      "execution_count": null,
      "outputs": []
    },
    {
      "cell_type": "code",
      "source": [
        "# Declare x and y\n",
        "images_x = np.array(images)\n",
        "labels_y = np.array(labels)\n",
        "\n",
        "# Normalizing the data\n",
        "images_x = images_x/255\n",
        "\n",
        "# encoding the labels\n",
        "num_of_classes = 3 # positive, negative, neutral\n",
        "labels_y_encoded = tf.keras.utils.to_categorical(labels_y,num_classes=num_of_classes)\n",
        "\n",
        "# Split data into 70:15:15 train, val, and test\n",
        "X_train, X_test, y_train, y_test = train_test_split(images_x, labels_y_encoded, random_state=54, test_size=0.30, shuffle=True)\n",
        "X_test, X_val, y_test, y_val = train_test_split(X_test, y_test, test_size=0.5, random_state=10)"
      ],
      "metadata": {
        "id": "ABhK8HrcM1BV"
      },
      "execution_count": null,
      "outputs": []
    },
    {
      "cell_type": "code",
      "source": [
        "images_x[0].shape"
      ],
      "metadata": {
        "colab": {
          "base_uri": "https://localhost:8080/"
        },
        "id": "w7SnKBtYyft-",
        "outputId": "2773849a-c10d-4084-c036-91e6874833dc"
      },
      "execution_count": null,
      "outputs": [
        {
          "output_type": "execute_result",
          "data": {
            "text/plain": [
              "(48, 48, 3)"
            ]
          },
          "metadata": {},
          "execution_count": 6
        }
      ]
    },
    {
      "cell_type": "code",
      "source": [
        "# # pretrained Inceptionv3 Model\n",
        "\n",
        "# inputs = tf.keras.Input(shape=(48, 48, 3))\n",
        "\n",
        "# base_model = tf.keras.applications.VGG16(\n",
        "#     input_tensor=inputs,\n",
        "#     include_top = False,\n",
        "#     weights = 'imagenet'\n",
        "# )\n",
        "\n",
        "# base_model.trainable = False"
      ],
      "metadata": {
        "colab": {
          "base_uri": "https://localhost:8080/"
        },
        "id": "HClCLPVyM4_W",
        "outputId": "902efd52-373c-4825-84e8-17eafef2876e"
      },
      "execution_count": null,
      "outputs": [
        {
          "output_type": "stream",
          "name": "stdout",
          "text": [
            "Downloading data from https://storage.googleapis.com/tensorflow/keras-applications/vgg16/vgg16_weights_tf_dim_ordering_tf_kernels_notop.h5\n",
            "58889256/58889256 [==============================] - 0s 0us/step\n"
          ]
        }
      ]
    },
    {
      "cell_type": "code",
      "source": [
        "# hidden = tf.keras.layers.Dense(2048, activation = 'relu')(base_model.layers[-2].output)\n",
        "# hidden = tf.keras.layers.Dense(1564, activation = 'relu')(hidden)\n",
        "# hidden = tf.keras.layers.Dense(1001, activation = 'relu')(hidden)\n",
        "# hidden = tf.keras.layers.Dense(2048, activation = 'relu')(hidden)\n",
        "# output = tf.keras.layers.Dense(3, activation = 'softmax')(hidden)\n",
        "\n",
        "# model = tf.keras.Model(inputs = inputs, outputs = output)\n",
        "# model.summary()"
      ],
      "metadata": {
        "colab": {
          "base_uri": "https://localhost:8080/"
        },
        "id": "XWXmjeHNpAI_",
        "outputId": "180770cf-c31c-48a9-d4fe-34a7b43ad778"
      },
      "execution_count": null,
      "outputs": [
        {
          "output_type": "stream",
          "name": "stdout",
          "text": [
            "Model: \"model_1\"\n",
            "_________________________________________________________________\n",
            " Layer (type)                Output Shape              Param #   \n",
            "=================================================================\n",
            " input_2 (InputLayer)        [(None, 48, 48, 3)]       0         \n",
            "                                                                 \n",
            " block1_conv1 (Conv2D)       (None, 48, 48, 64)        1792      \n",
            "                                                                 \n",
            " block1_conv2 (Conv2D)       (None, 48, 48, 64)        36928     \n",
            "                                                                 \n",
            " block1_pool (MaxPooling2D)  (None, 24, 24, 64)        0         \n",
            "                                                                 \n",
            " block2_conv1 (Conv2D)       (None, 24, 24, 128)       73856     \n",
            "                                                                 \n",
            " block2_conv2 (Conv2D)       (None, 24, 24, 128)       147584    \n",
            "                                                                 \n",
            " block2_pool (MaxPooling2D)  (None, 12, 12, 128)       0         \n",
            "                                                                 \n",
            " block3_conv1 (Conv2D)       (None, 12, 12, 256)       295168    \n",
            "                                                                 \n",
            " block3_conv2 (Conv2D)       (None, 12, 12, 256)       590080    \n",
            "                                                                 \n",
            " block3_conv3 (Conv2D)       (None, 12, 12, 256)       590080    \n",
            "                                                                 \n",
            " block3_pool (MaxPooling2D)  (None, 6, 6, 256)         0         \n",
            "                                                                 \n",
            " block4_conv1 (Conv2D)       (None, 6, 6, 512)         1180160   \n",
            "                                                                 \n",
            " block4_conv2 (Conv2D)       (None, 6, 6, 512)         2359808   \n",
            "                                                                 \n",
            " block4_conv3 (Conv2D)       (None, 6, 6, 512)         2359808   \n",
            "                                                                 \n",
            " block4_pool (MaxPooling2D)  (None, 3, 3, 512)         0         \n",
            "                                                                 \n",
            " block5_conv1 (Conv2D)       (None, 3, 3, 512)         2359808   \n",
            "                                                                 \n",
            " block5_conv2 (Conv2D)       (None, 3, 3, 512)         2359808   \n",
            "                                                                 \n",
            " block5_conv3 (Conv2D)       (None, 3, 3, 512)         2359808   \n",
            "                                                                 \n",
            " dense_3 (Dense)             (None, 3, 3, 2048)        1050624   \n",
            "                                                                 \n",
            " dense_4 (Dense)             (None, 3, 3, 1564)        3204636   \n",
            "                                                                 \n",
            " dense_5 (Dense)             (None, 3, 3, 1001)        1566565   \n",
            "                                                                 \n",
            " dense_6 (Dense)             (None, 3, 3, 2048)        2052096   \n",
            "                                                                 \n",
            " dense_7 (Dense)             (None, 3, 3, 3)           6147      \n",
            "                                                                 \n",
            "=================================================================\n",
            "Total params: 22,594,756\n",
            "Trainable params: 7,880,068\n",
            "Non-trainable params: 14,714,688\n",
            "_________________________________________________________________\n"
          ]
        }
      ]
    },
    {
      "cell_type": "code",
      "source": [
        "# CNN Architecture\n",
        "input = Input(shape = (48,48,3))\n",
        "conv1 = Conv2D(100,(3, 3), padding = 'same', strides=(1, 1), kernel_regularizer=l2(0.001))(input)\n",
        "conv1 = Activation('relu')(conv1)\n",
        "conv1 = Activation('relu')(conv1)\n",
        "pool1 = MaxPooling2D(pool_size = (2,2)) (conv1)\n",
        "conv2 = Conv2D(150,(3, 3), padding = 'same', strides=(1, 1), kernel_regularizer=l2(0.001))(pool1)\n",
        "conv2 = Activation('relu')(conv2)\n",
        "pool2 = MaxPooling2D(pool_size = (2,2), padding='same') (conv2)\n",
        "conv3 = Conv2D(128,(3, 3), padding = 'same', strides=(1, 1), kernel_regularizer=l2(0.001))(pool2)\n",
        "conv3 = Dropout(0.3)(conv3)\n",
        "conv3 = Activation('relu')(conv3)\n",
        "pool3 = MaxPooling2D(pool_size = (2,2), padding='same') (conv3)\n",
        "conv4 = Conv2D(256,(3, 3), padding = 'same', strides=(1, 1), kernel_regularizer=l2(0.001))(pool3)\n",
        "conv4 = Activation('relu')(conv4)\n",
        "pool4 = MaxPooling2D(pool_size = (2,2), padding='same') (conv4)\n",
        "layer4 = Dense(1000, activation=tf.nn.relu) (pool4)\n",
        "drop_1 = Flatten()(layer4)\n",
        "dense_1 = Dense(100,activation='relu')(drop_1)\n",
        "output = Dense(3,activation=\"softmax\")(dense_1)\n",
        "\n",
        "# Model compile\n",
        "model = Model(inputs=input,outputs=output)"
      ],
      "metadata": {
        "id": "p9EkCWcj-LRS"
      },
      "execution_count": null,
      "outputs": []
    },
    {
      "cell_type": "code",
      "source": [
        "loss_func = tf.keras.losses.categorical_crossentropy\n",
        "\n",
        "# Use the RMSprop learning algorithm to optimize the network weights\n",
        "base_learning_rate = 0.0001\n",
        "opt = tf.keras.optimizers.Adam(lr=base_learning_rate)\n",
        "\n",
        "# Compile the model using the specified loss function and potimizer\n",
        "model.compile(loss=loss_func, optimizer=opt, metrics=['accuracy'])\n",
        "\n",
        "model.summary()"
      ],
      "metadata": {
        "colab": {
          "base_uri": "https://localhost:8080/"
        },
        "id": "yVsvwrI4c48p",
        "outputId": "77c1b70e-7987-4bf1-a11f-2101b8d5dee6"
      },
      "execution_count": null,
      "outputs": [
        {
          "output_type": "stream",
          "name": "stderr",
          "text": [
            "WARNING:absl:`lr` is deprecated in Keras optimizer, please use `learning_rate` or use the legacy optimizer, e.g.,tf.keras.optimizers.legacy.Adam.\n"
          ]
        },
        {
          "output_type": "stream",
          "name": "stdout",
          "text": [
            "Model: \"model\"\n",
            "_________________________________________________________________\n",
            " Layer (type)                Output Shape              Param #   \n",
            "=================================================================\n",
            " input_1 (InputLayer)        [(None, 48, 48, 3)]       0         \n",
            "                                                                 \n",
            " conv2d (Conv2D)             (None, 48, 48, 100)       2800      \n",
            "                                                                 \n",
            " activation (Activation)     (None, 48, 48, 100)       0         \n",
            "                                                                 \n",
            " activation_1 (Activation)   (None, 48, 48, 100)       0         \n",
            "                                                                 \n",
            " max_pooling2d (MaxPooling2D  (None, 24, 24, 100)      0         \n",
            " )                                                               \n",
            "                                                                 \n",
            " conv2d_1 (Conv2D)           (None, 24, 24, 150)       135150    \n",
            "                                                                 \n",
            " activation_2 (Activation)   (None, 24, 24, 150)       0         \n",
            "                                                                 \n",
            " max_pooling2d_1 (MaxPooling  (None, 12, 12, 150)      0         \n",
            " 2D)                                                             \n",
            "                                                                 \n",
            " conv2d_2 (Conv2D)           (None, 12, 12, 128)       172928    \n",
            "                                                                 \n",
            " dropout (Dropout)           (None, 12, 12, 128)       0         \n",
            "                                                                 \n",
            " activation_3 (Activation)   (None, 12, 12, 128)       0         \n",
            "                                                                 \n",
            " max_pooling2d_2 (MaxPooling  (None, 6, 6, 128)        0         \n",
            " 2D)                                                             \n",
            "                                                                 \n",
            " conv2d_3 (Conv2D)           (None, 6, 6, 256)         295168    \n",
            "                                                                 \n",
            " activation_4 (Activation)   (None, 6, 6, 256)         0         \n",
            "                                                                 \n",
            " max_pooling2d_3 (MaxPooling  (None, 3, 3, 256)        0         \n",
            " 2D)                                                             \n",
            "                                                                 \n",
            " dense (Dense)               (None, 3, 3, 1000)        257000    \n",
            "                                                                 \n",
            " flatten (Flatten)           (None, 9000)              0         \n",
            "                                                                 \n",
            " dense_1 (Dense)             (None, 100)               900100    \n",
            "                                                                 \n",
            " dense_2 (Dense)             (None, 3)                 303       \n",
            "                                                                 \n",
            "=================================================================\n",
            "Total params: 1,763,449\n",
            "Trainable params: 1,763,449\n",
            "Non-trainable params: 0\n",
            "_________________________________________________________________\n"
          ]
        }
      ]
    },
    {
      "cell_type": "code",
      "source": [
        "class garbage_collect_callback(tf.keras.callbacks.Callback):\n",
        "  def on_epoch_end(self, epoch, logs=None):\n",
        "    gc.collect()\n",
        "\n",
        "history = model.fit(x = X_train, # Train examples\n",
        "          y = y_train, # Train labels\n",
        "          epochs = 30, # number of epochs (passes through data during training)\n",
        "          batch_size = 50, # number of points to consider in each optimizer iteration\n",
        "          callbacks = [garbage_collect_callback()],\n",
        "          validation_data = (X_val, y_val), #data to use for validation\n",
        "          verbose=1) #will print information about optimization process"
      ],
      "metadata": {
        "colab": {
          "base_uri": "https://localhost:8080/"
        },
        "id": "rkzBg1PFc6E9",
        "outputId": "dd096dde-e189-4f8c-9969-1af744861ad8"
      },
      "execution_count": null,
      "outputs": [
        {
          "output_type": "stream",
          "name": "stdout",
          "text": [
            "Epoch 1/30\n",
            "15/15 [==============================] - 29s 2s/step - loss: 1.4817 - accuracy: 0.5522 - val_loss: 1.1631 - val_accuracy: 0.7006\n",
            "Epoch 2/30\n",
            "15/15 [==============================] - 19s 1s/step - loss: 1.1689 - accuracy: 0.6126 - val_loss: 1.0820 - val_accuracy: 0.7006\n",
            "Epoch 3/30\n",
            "15/15 [==============================] - 18s 1s/step - loss: 1.0978 - accuracy: 0.6126 - val_loss: 1.0342 - val_accuracy: 0.7006\n",
            "Epoch 4/30\n",
            "15/15 [==============================] - 21s 1s/step - loss: 1.0619 - accuracy: 0.6126 - val_loss: 1.0165 - val_accuracy: 0.7006\n",
            "Epoch 5/30\n",
            "15/15 [==============================] - 18s 1s/step - loss: 1.0369 - accuracy: 0.6126 - val_loss: 0.9789 - val_accuracy: 0.7006\n",
            "Epoch 6/30\n",
            "15/15 [==============================] - 18s 1s/step - loss: 1.0160 - accuracy: 0.6126 - val_loss: 0.9364 - val_accuracy: 0.7006\n",
            "Epoch 7/30\n",
            "15/15 [==============================] - 19s 1s/step - loss: 0.9834 - accuracy: 0.6154 - val_loss: 1.0062 - val_accuracy: 0.7006\n",
            "Epoch 8/30\n",
            "15/15 [==============================] - 21s 1s/step - loss: 0.9653 - accuracy: 0.6305 - val_loss: 0.8662 - val_accuracy: 0.7134\n",
            "Epoch 9/30\n",
            "15/15 [==============================] - 19s 1s/step - loss: 0.8859 - accuracy: 0.6593 - val_loss: 0.7850 - val_accuracy: 0.7898\n",
            "Epoch 10/30\n",
            "15/15 [==============================] - 19s 1s/step - loss: 0.7396 - accuracy: 0.7527 - val_loss: 0.7025 - val_accuracy: 0.7325\n",
            "Epoch 11/30\n",
            "15/15 [==============================] - 20s 1s/step - loss: 0.6646 - accuracy: 0.7830 - val_loss: 0.4992 - val_accuracy: 0.8344\n",
            "Epoch 12/30\n",
            "15/15 [==============================] - 19s 1s/step - loss: 0.4261 - accuracy: 0.8709 - val_loss: 0.6864 - val_accuracy: 0.7580\n",
            "Epoch 13/30\n",
            "15/15 [==============================] - 18s 1s/step - loss: 0.3572 - accuracy: 0.9052 - val_loss: 0.3287 - val_accuracy: 0.9045\n",
            "Epoch 14/30\n",
            "15/15 [==============================] - 21s 1s/step - loss: 0.2878 - accuracy: 0.9313 - val_loss: 0.2646 - val_accuracy: 0.9490\n",
            "Epoch 15/30\n",
            "15/15 [==============================] - 19s 1s/step - loss: 0.2431 - accuracy: 0.9396 - val_loss: 0.3391 - val_accuracy: 0.9172\n",
            "Epoch 16/30\n",
            "15/15 [==============================] - 18s 1s/step - loss: 0.2116 - accuracy: 0.9602 - val_loss: 0.2093 - val_accuracy: 0.9745\n",
            "Epoch 17/30\n",
            "15/15 [==============================] - 21s 1s/step - loss: 0.1598 - accuracy: 0.9794 - val_loss: 0.1856 - val_accuracy: 0.9682\n",
            "Epoch 18/30\n",
            "15/15 [==============================] - 18s 1s/step - loss: 0.1774 - accuracy: 0.9643 - val_loss: 0.1558 - val_accuracy: 0.9936\n",
            "Epoch 19/30\n",
            "15/15 [==============================] - 19s 1s/step - loss: 0.1330 - accuracy: 0.9918 - val_loss: 0.1488 - val_accuracy: 0.9873\n",
            "Epoch 20/30\n",
            "15/15 [==============================] - 19s 1s/step - loss: 0.1360 - accuracy: 0.9876 - val_loss: 0.2214 - val_accuracy: 0.9427\n",
            "Epoch 21/30\n",
            "15/15 [==============================] - 20s 1s/step - loss: 0.1493 - accuracy: 0.9849 - val_loss: 0.1704 - val_accuracy: 0.9554\n",
            "Epoch 22/30\n",
            "15/15 [==============================] - 18s 1s/step - loss: 0.1562 - accuracy: 0.9725 - val_loss: 0.1800 - val_accuracy: 0.9618\n",
            "Epoch 23/30\n",
            "15/15 [==============================] - 19s 1s/step - loss: 0.1255 - accuracy: 0.9918 - val_loss: 0.1272 - val_accuracy: 0.9873\n",
            "Epoch 24/30\n",
            "15/15 [==============================] - 21s 1s/step - loss: 0.1073 - accuracy: 0.9973 - val_loss: 0.1167 - val_accuracy: 1.0000\n",
            "Epoch 25/30\n",
            "15/15 [==============================] - 19s 1s/step - loss: 0.1086 - accuracy: 0.9945 - val_loss: 0.1146 - val_accuracy: 0.9936\n",
            "Epoch 26/30\n",
            "15/15 [==============================] - 18s 1s/step - loss: 0.1092 - accuracy: 0.9931 - val_loss: 0.1350 - val_accuracy: 0.9809\n",
            "Epoch 27/30\n",
            "15/15 [==============================] - 19s 1s/step - loss: 0.1148 - accuracy: 0.9849 - val_loss: 0.1370 - val_accuracy: 0.9809\n",
            "Epoch 28/30\n",
            "15/15 [==============================] - 19s 1s/step - loss: 0.1203 - accuracy: 0.9863 - val_loss: 0.1524 - val_accuracy: 0.9809\n",
            "Epoch 29/30\n",
            "15/15 [==============================] - 18s 1s/step - loss: 0.1093 - accuracy: 0.9890 - val_loss: 0.1294 - val_accuracy: 0.9873\n",
            "Epoch 30/30\n",
            "15/15 [==============================] - 18s 1s/step - loss: 0.1026 - accuracy: 0.9945 - val_loss: 0.0966 - val_accuracy: 1.0000\n"
          ]
        }
      ]
    },
    {
      "cell_type": "code",
      "source": [
        "test_pred = model.predict(X_test)\n",
        "scores = model.evaluate(X_test, y_test, verbose = 0)\n",
        "print('\\nTesting model on mock_test set:')\n",
        "print(f'Model Loss: {scores[0]:.3f}, Model Accuracy: {scores[1]:.3f}')"
      ],
      "metadata": {
        "colab": {
          "base_uri": "https://localhost:8080/"
        },
        "id": "7YmMohU3APoq",
        "outputId": "d4e1828b-89d2-46c6-b7b8-f64c5ab2ab47"
      },
      "execution_count": null,
      "outputs": [
        {
          "output_type": "stream",
          "name": "stdout",
          "text": [
            "5/5 [==============================] - 1s 171ms/step\n",
            "\n",
            "Testing model on mock_test set:\n",
            "Model Loss: 0.129, Model Accuracy: 0.981\n"
          ]
        }
      ]
    }
  ]
}